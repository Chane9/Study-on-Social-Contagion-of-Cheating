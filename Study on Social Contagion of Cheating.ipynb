{
 "cells": [
  {
   "cell_type": "markdown",
   "metadata": {
    "slideshow": {
     "slide_type": "slide"
    }
   },
   "source": [
    "## Are those who observe cheating more likely to start cheating?\n",
    "\n",
    "This project is to answer an empirical social science question: are those who observe cheating more likely to start cheating in games? The social contagion of cheating on the massive multiplayer online game PlayerUnknown's Battlegrounds (PUBG) will be studyed in this project. \n",
    "\n",
    "\n",
    "Our hypothesis is that players who observe cheating become likely to adopt cheating themselves. To test this hypothesis, I will first count how many observers of cheaters become cheaters within a certain period of time. I will call these observer–cheater motifs. I will then simulate alternative universes in which the players played the same game but happened to be killed by someone else. Finally, I will compare how the count of the observer–cheater motifs observed in the actual data compares to what I would expect in a \"randomized\" world."
   ]
  },
  {
   "cell_type": "markdown",
   "metadata": {
    "slideshow": {
     "slide_type": "slide"
    }
   },
   "source": [
    "### Data\n",
    "\n",
    "The data were collected by Jinny Kim are attached in the repository, contains the following two files:\n",
    "\n",
    "* `cheaters.txt` – contains cheaters who played between March 1 and March 10, 2019\n",
    "    1. player account id\n",
    "    * estimated date when the player started cheating\n",
    "    * date when the player's account was banned due to cheating\n",
    "    \n",
    "* `kills.txt` – contains the killings done in 6,000 randomly selected matches played between March 1 and March 10, 2019\n",
    "    1. match id \n",
    "    * account id of the killer\n",
    "    * account id of the player who got killed\n",
    "    * time when the attack (killing) happened"
   ]
  },
  {
   "cell_type": "markdown",
   "metadata": {},
   "source": [
    "The modular function/methods are in the separate .py file [CoduModu.py](https://github.com/Chane9/Study-on-Social-Contagion-of-Cheating/blob/main/CodeModu.py). I will recall the functions/methods needed from that .py file during analysis. "
   ]
  },
  {
   "cell_type": "markdown",
   "metadata": {},
   "source": [
    "### Step 1. Observers of cheating start cheating\n",
    "\n",
    "Cheating players can be recognized because they exhibit abnormal killing patterns. I will assume that player A realizes that cheating occurs if either:\n",
    "1. cheating player B kills at least 3 other players before A gets killed in the game\n",
    "\n",
    "or \n",
    "\n",
    "2. A is killed by cheating player B.\n",
    "\n",
    "Count how many players observed at least one cheater and then started cheating within the next 5 days. I will assume here that I can only talk about a causal relationship if the two events (observing a cheater and starting to cheat) are relatively proximate in time (within 5 days of each other). In essence, I am looking for temporal motifs in which player A observes B and then A becomes cheater, but the timing between the two events should not be more than 5 days. "
   ]
  },
  {
   "cell_type": "markdown",
   "metadata": {},
   "source": [
    "#### Further assumptions Made:\n",
    "1. The starting time of cheating is estimated as a date in the data, so assume that a day starts at 00:00.\n",
    "2. If a game happens across the 00:00, and one player is marked as a cheater for the second day, I assumed that player is not a cheater for this game.\n",
    "3. As the cheating date data always start at 00:00, thus I assume that if observation time and start cheating time are on the same day: I do not regard that player as observer-cheater motif."
   ]
  },
  {
   "cell_type": "code",
   "execution_count": 17,
   "metadata": {},
   "outputs": [],
   "source": [
    "# Import modules to estimate and show results\n",
    "import CodeModu\n",
    "\n",
    "# Read cheaters in as dictionary\n",
    "cheaters = dict()\n",
    "with open('../assignment-final-data/cheaters.txt') as cheaterlst:\n",
    "    for line in cheaterlst:\n",
    "        linestr = line.strip().split('\\t')\n",
    "        cheaters[linestr[0]] = [linestr[1], linestr[2]]\n",
    "        \n",
    "# read kill records in as dictionary\n",
    "games = dict()\n",
    "with open('../assignment-final-data/kills.txt') as kills:\n",
    "    for line in kills:\n",
    "        linestr = line.strip().split('\\t')\n",
    "        if linestr[0] not in games.keys():\n",
    "            games[linestr[0]]=([[linestr[1], linestr[2],  linestr[3]]])\n",
    "        else:\n",
    "            games[linestr[0]].append([linestr[1], linestr[2], linestr[3]])\n",
    "Games = games"
   ]
  },
  {
   "cell_type": "code",
   "execution_count": 18,
   "metadata": {},
   "outputs": [
    {
     "name": "stdout",
     "output_type": "stream",
     "text": [
      "The number of observer-cheater motif is: 185\n"
     ]
    }
   ],
   "source": [
    "Motif = CodeModu.Motif_judgement(games, cheaters)\n",
    "Motif.observer_judgement()\n",
    "initialcount = Motif.motif_judgement()\n",
    "print('The number of observer-cheater motif is:', initialcount)"
   ]
  },
  {
   "cell_type": "markdown",
   "metadata": {},
   "source": [
    " ### Step 2. Simulating an alternative universe\n",
    "\n",
    "Of course, proximal in time does not necessarily mean causal. \n",
    "\n",
    "To establish causality, I will simulate an alternative world in which everything is the same but the events took somewhat different sequence. If observing cheating causes cheating, in the randomized world we will observe fewer observer–cheater motifs than in reality. To simulate an alternative universe, I will keep the timing and structure of interactions but randomly assign the identities of players. There are certain restrictions we need to observe, however: \n",
    "\n",
    "* Randomize is within a game, not between games. \n",
    "* Since cheaters may tend to kill more or kill at a specific period in the game, we will preserve their position in the killing network. That is, only non-cheaters should be randomly reassigned. \n",
    "\n",
    "The figure below illustrates how shuffling should be completed:\n",
    "\n",
    "![Match randomization](match_randomization_diagram.png)\n",
    "\n",
    "\n",
    "\n",
    "### Step 3. Evaluating reality against alternative universes \n",
    "\n",
    "10 randomizations have been conducted for the data. Then plot the number of observer–cheater motifs observed in the actual data compared to the distribution get in the randomized data.  "
   ]
  },
  {
   "cell_type": "code",
   "execution_count": 19,
   "metadata": {},
   "outputs": [],
   "source": [
    "record = list()\n",
    "for i in range(10):\n",
    "    games = Games\n",
    "    games = CodeModu.random_noncheaters(games, cheaters)\n",
    "    Motif = CodeModu.Motif_judgement(games, cheaters)\n",
    "    observer = Motif.observer_judgement()\n",
    "    record.append(Motif.motif_judgement())"
   ]
  },
  {
   "cell_type": "code",
   "execution_count": 20,
   "metadata": {},
   "outputs": [
    {
     "data": {
      "text/plain": [
       "<matplotlib.lines.Line2D at 0x7fac3d552940>"
      ]
     },
     "execution_count": 20,
     "metadata": {},
     "output_type": "execute_result"
    },
    {
     "data": {
      "image/png": "[encoded data removed]",
      "text/plain": [
       "<Figure size 432x288 with 1 Axes>"
      ]
     },
     "metadata": {
      "needs_background": "light"
     },
     "output_type": "display_data"
    }
   ],
   "source": [
    "import matplotlib.pyplot as plt\n",
    "plt.hist(record)\n",
    "plt.xlabel('Number of observer–cheater motifs')\n",
    "plt.ylabel('Counts')\n",
    "plt.axvline(x = initialcount, color='r', linestyle='dashed', linewidth=2)"
   ]
  },
  {
   "cell_type": "markdown",
   "metadata": {},
   "source": [
    "The hypothesis is that players who observe cheating become more likely to adopt cheating themselves. According to our ouput:\n",
    "342598 player and (2295-170) spontaneous cheaters: The proportion of the transfer is 0.62%.\n",
    "Around 67501 observers and around 170 observser-cheater: The proportion of the transfer is 0.25%.\n",
    "The histogram now shows a normal distribution, thus we could do t-test on it. While, under my assumption, no evdience shows that the players who observe cheating become more likely to adopt cheating themselves. Thus we cannot accept our null hypothesis. To note, under different assumptions, different results may be achieved. "
   ]
  },
  {
   "cell_type": "code",
   "execution_count": 21,
   "metadata": {},
   "outputs": [
    {
     "name": "stdout",
     "output_type": "stream",
     "text": [
      "Number of Observer-cheater motif: 171.3\n",
      "Number of players: 342598\n",
      "Number of cheaters: 2295\n"
     ]
    }
   ],
   "source": [
    "# calculation for conclusion\n",
    "print(\"Number of Observer-cheater motif:\", sum(record)/len(record))\n",
    "playerlst = []\n",
    "for game_id in games.keys():\n",
    "    for i in range(len(games[game_id])):\n",
    "        playerlst.append(games[game_id][i][0])\n",
    "        playerlst.append(games[game_id][i][1])\n",
    "print('Number of players:', len(set(playerlst)))\n",
    "print('Number of cheaters:', len(cheaters))"
   ]
  }
 ],
 "metadata": {
  "kernelspec": {
   "display_name": "Python 3",
   "language": "python",
   "name": "python3"
  },
  "language_info": {
   "codemirror_mode": {
    "name": "ipython",
    "version": 3
   },
   "file_extension": ".py",
   "mimetype": "text/x-python",
   "name": "python",
   "nbconvert_exporter": "python",
   "pygments_lexer": "ipython3",
   "version": "3.7.3"
  }
 },
 "nbformat": 4,
 "nbformat_minor": 2
}
